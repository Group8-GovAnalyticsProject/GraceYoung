{
 "cells": [
  {
   "cell_type": "code",
   "execution_count": 87,
   "metadata": {},
   "outputs": [],
   "source": [
    "import pandas as pd\n",
    "\n",
    "home = 'https://github.com/Group8-GovAnalyticsProject/GraceYoung/'"
   ]
  },
  {
   "cell_type": "code",
   "execution_count": 88,
   "metadata": {},
   "outputs": [],
   "source": [
    "#Reading COVID data\n",
    "\n",
    "covid_link = home + 'raw/main/biweekly-counts-rates-by-geography-dec-29.xlsx'\n",
    "covid_cases = pd.read_excel(covid_link, sheet_name='Census')"
   ]
  },
  {
   "cell_type": "code",
   "execution_count": 89,
   "metadata": {},
   "outputs": [],
   "source": [
    "# Preprocessing COVID data\n",
    "\n",
    "# Filter for weeks prior to park counts collected\n",
    "covid_cases_pre = covid_cases[covid_cases['Week_Start'] <= '2020-04-27'] #This is the date when park data was collected.\n",
    "\n",
    "# Summing up the number of COVID cases per tract prior to the date where park counts were collected\n",
    "covid_cases_pre = covid_cases_pre.groupby(['Census'], as_index=False)['Positives'].sum()\n",
    "covid_cases_pre.columns = ['tract_id','precount_positive']\n",
    "\n",
    "# Also summing all cases to date because having a lot of records with 0 is not good for later regression analysis\n",
    "covid_cases_all = covid_cases.groupby(['Census'], as_index=False)['Positives'].sum()\n",
    "covid_cases_all.columns = ['tract_id','all_positive']"
   ]
  },
  {
   "cell_type": "code",
   "execution_count": 90,
   "metadata": {},
   "outputs": [],
   "source": [
    "#Reading median income data\n",
    "\n",
    "income_link = home + 'raw/main/median_income_raw.csv'\n",
    "income = pd.read_csv(link_income)"
   ]
  },
  {
   "cell_type": "code",
   "execution_count": 91,
   "metadata": {},
   "outputs": [
    {
     "data": {
      "text/html": [
       "<div>\n",
       "<style scoped>\n",
       "    .dataframe tbody tr th:only-of-type {\n",
       "        vertical-align: middle;\n",
       "    }\n",
       "\n",
       "    .dataframe tbody tr th {\n",
       "        vertical-align: top;\n",
       "    }\n",
       "\n",
       "    .dataframe thead th {\n",
       "        text-align: right;\n",
       "    }\n",
       "</style>\n",
       "<table border=\"1\" class=\"dataframe\">\n",
       "  <thead>\n",
       "    <tr style=\"text-align: right;\">\n",
       "      <th></th>\n",
       "      <th>GEO_ID</th>\n",
       "      <th>S1901_C01_012E</th>\n",
       "    </tr>\n",
       "  </thead>\n",
       "  <tbody>\n",
       "    <tr>\n",
       "      <th>0</th>\n",
       "      <td>id</td>\n",
       "      <td>Estimate!!Households!!Median income (dollars)</td>\n",
       "    </tr>\n",
       "    <tr>\n",
       "      <th>1</th>\n",
       "      <td>1400000US53033000100</td>\n",
       "      <td>55143</td>\n",
       "    </tr>\n",
       "    <tr>\n",
       "      <th>2</th>\n",
       "      <td>1400000US53033000200</td>\n",
       "      <td>77463</td>\n",
       "    </tr>\n",
       "    <tr>\n",
       "      <th>3</th>\n",
       "      <td>1400000US53033000300</td>\n",
       "      <td>100917</td>\n",
       "    </tr>\n",
       "    <tr>\n",
       "      <th>4</th>\n",
       "      <td>1400000US53033000401</td>\n",
       "      <td>32877</td>\n",
       "    </tr>\n",
       "  </tbody>\n",
       "</table>\n",
       "</div>"
      ],
      "text/plain": [
       "                 GEO_ID                                 S1901_C01_012E\n",
       "0                    id  Estimate!!Households!!Median income (dollars)\n",
       "1  1400000US53033000100                                          55143\n",
       "2  1400000US53033000200                                          77463\n",
       "3  1400000US53033000300                                         100917\n",
       "4  1400000US53033000401                                          32877"
      ]
     },
     "execution_count": 91,
     "metadata": {},
     "output_type": "execute_result"
    }
   ],
   "source": [
    "#Cleaning median income data\n",
    "\n",
    "#Selecting only the columns I want (census tract ID and median household income)\n",
    "income = income.iloc[:,[0,24]]\n",
    "income.head()"
   ]
  },
  {
   "cell_type": "code",
   "execution_count": 92,
   "metadata": {},
   "outputs": [
    {
     "data": {
      "text/html": [
       "<div>\n",
       "<style scoped>\n",
       "    .dataframe tbody tr th:only-of-type {\n",
       "        vertical-align: middle;\n",
       "    }\n",
       "\n",
       "    .dataframe tbody tr th {\n",
       "        vertical-align: top;\n",
       "    }\n",
       "\n",
       "    .dataframe thead th {\n",
       "        text-align: right;\n",
       "    }\n",
       "</style>\n",
       "<table border=\"1\" class=\"dataframe\">\n",
       "  <thead>\n",
       "    <tr style=\"text-align: right;\">\n",
       "      <th></th>\n",
       "      <th>GEO_ID</th>\n",
       "      <th>S1901_C01_012E</th>\n",
       "    </tr>\n",
       "  </thead>\n",
       "  <tbody>\n",
       "    <tr>\n",
       "      <th>0</th>\n",
       "      <td>1400000US53033000100</td>\n",
       "      <td>55143</td>\n",
       "    </tr>\n",
       "    <tr>\n",
       "      <th>1</th>\n",
       "      <td>1400000US53033000200</td>\n",
       "      <td>77463</td>\n",
       "    </tr>\n",
       "    <tr>\n",
       "      <th>2</th>\n",
       "      <td>1400000US53033000300</td>\n",
       "      <td>100917</td>\n",
       "    </tr>\n",
       "    <tr>\n",
       "      <th>3</th>\n",
       "      <td>1400000US53033000401</td>\n",
       "      <td>32877</td>\n",
       "    </tr>\n",
       "    <tr>\n",
       "      <th>4</th>\n",
       "      <td>1400000US53033000402</td>\n",
       "      <td>72150</td>\n",
       "    </tr>\n",
       "  </tbody>\n",
       "</table>\n",
       "</div>"
      ],
      "text/plain": [
       "                 GEO_ID S1901_C01_012E\n",
       "0  1400000US53033000100          55143\n",
       "1  1400000US53033000200          77463\n",
       "2  1400000US53033000300         100917\n",
       "3  1400000US53033000401          32877\n",
       "4  1400000US53033000402          72150"
      ]
     },
     "execution_count": 92,
     "metadata": {},
     "output_type": "execute_result"
    }
   ],
   "source": [
    "#Dropping the first text row\n",
    "\n",
    "income.drop(0, axis=0, inplace=True)\n",
    "income.reset_index(drop=True, inplace=True)\n",
    "income.head()"
   ]
  },
  {
   "cell_type": "code",
   "execution_count": 93,
   "metadata": {},
   "outputs": [
    {
     "data": {
      "text/html": [
       "<div>\n",
       "<style scoped>\n",
       "    .dataframe tbody tr th:only-of-type {\n",
       "        vertical-align: middle;\n",
       "    }\n",
       "\n",
       "    .dataframe tbody tr th {\n",
       "        vertical-align: top;\n",
       "    }\n",
       "\n",
       "    .dataframe thead th {\n",
       "        text-align: right;\n",
       "    }\n",
       "</style>\n",
       "<table border=\"1\" class=\"dataframe\">\n",
       "  <thead>\n",
       "    <tr style=\"text-align: right;\">\n",
       "      <th></th>\n",
       "      <th>tract_id</th>\n",
       "      <th>median_hhold_inc</th>\n",
       "    </tr>\n",
       "  </thead>\n",
       "  <tbody>\n",
       "    <tr>\n",
       "      <th>0</th>\n",
       "      <td>1400000US53033000100</td>\n",
       "      <td>55143</td>\n",
       "    </tr>\n",
       "    <tr>\n",
       "      <th>1</th>\n",
       "      <td>1400000US53033000200</td>\n",
       "      <td>77463</td>\n",
       "    </tr>\n",
       "    <tr>\n",
       "      <th>2</th>\n",
       "      <td>1400000US53033000300</td>\n",
       "      <td>100917</td>\n",
       "    </tr>\n",
       "    <tr>\n",
       "      <th>3</th>\n",
       "      <td>1400000US53033000401</td>\n",
       "      <td>32877</td>\n",
       "    </tr>\n",
       "    <tr>\n",
       "      <th>4</th>\n",
       "      <td>1400000US53033000402</td>\n",
       "      <td>72150</td>\n",
       "    </tr>\n",
       "  </tbody>\n",
       "</table>\n",
       "</div>"
      ],
      "text/plain": [
       "               tract_id median_hhold_inc\n",
       "0  1400000US53033000100            55143\n",
       "1  1400000US53033000200            77463\n",
       "2  1400000US53033000300           100917\n",
       "3  1400000US53033000401            32877\n",
       "4  1400000US53033000402            72150"
      ]
     },
     "execution_count": 93,
     "metadata": {},
     "output_type": "execute_result"
    }
   ],
   "source": [
    "#Renaming columns\n",
    "income.columns = ['tract_id', 'median_hhold_inc']\n",
    "income.head()"
   ]
  },
  {
   "cell_type": "code",
   "execution_count": 94,
   "metadata": {},
   "outputs": [
    {
     "data": {
      "text/html": [
       "<div>\n",
       "<style scoped>\n",
       "    .dataframe tbody tr th:only-of-type {\n",
       "        vertical-align: middle;\n",
       "    }\n",
       "\n",
       "    .dataframe tbody tr th {\n",
       "        vertical-align: top;\n",
       "    }\n",
       "\n",
       "    .dataframe thead th {\n",
       "        text-align: right;\n",
       "    }\n",
       "</style>\n",
       "<table border=\"1\" class=\"dataframe\">\n",
       "  <thead>\n",
       "    <tr style=\"text-align: right;\">\n",
       "      <th></th>\n",
       "      <th>tract_id</th>\n",
       "      <th>median_hhold_inc</th>\n",
       "    </tr>\n",
       "  </thead>\n",
       "  <tbody>\n",
       "    <tr>\n",
       "      <th>0</th>\n",
       "      <td>53033000100</td>\n",
       "      <td>55143</td>\n",
       "    </tr>\n",
       "    <tr>\n",
       "      <th>1</th>\n",
       "      <td>53033000200</td>\n",
       "      <td>77463</td>\n",
       "    </tr>\n",
       "    <tr>\n",
       "      <th>2</th>\n",
       "      <td>53033000300</td>\n",
       "      <td>100917</td>\n",
       "    </tr>\n",
       "    <tr>\n",
       "      <th>3</th>\n",
       "      <td>53033000401</td>\n",
       "      <td>32877</td>\n",
       "    </tr>\n",
       "    <tr>\n",
       "      <th>4</th>\n",
       "      <td>53033000402</td>\n",
       "      <td>72150</td>\n",
       "    </tr>\n",
       "  </tbody>\n",
       "</table>\n",
       "</div>"
      ],
      "text/plain": [
       "      tract_id median_hhold_inc\n",
       "0  53033000100            55143\n",
       "1  53033000200            77463\n",
       "2  53033000300           100917\n",
       "3  53033000401            32877\n",
       "4  53033000402            72150"
      ]
     },
     "execution_count": 94,
     "metadata": {},
     "output_type": "execute_result"
    }
   ],
   "source": [
    "#Fixing geo_id to just show tract ID by dropping the first 9 characters\n",
    "drop_first = lambda s : int(str(s)[9:])\n",
    "\n",
    "income['tract_id'] = income['tract_id'].apply(drop_first)\n",
    "income.head()"
   ]
  },
  {
   "cell_type": "code",
   "execution_count": 95,
   "metadata": {},
   "outputs": [],
   "source": [
    "#Fixing column data types\n",
    "income['median_hhold_inc'] = pd.to_numeric(income['median_hhold_inc'], errors='coerce')\n",
    "\n",
    "#Removing any NaNs\n",
    "income = income.dropna()"
   ]
  },
  {
   "cell_type": "code",
   "execution_count": 96,
   "metadata": {},
   "outputs": [],
   "source": [
    "#Writing final cleaned csv files\n",
    "covid_cases_pre.to_csv('clean_covid_cases_pre.csv', index=False)\n",
    "covid_cases_all.to_csv('clean_covid_cases_all.csv', index=False)\n",
    "income.to_csv('clean_median_income.csv', index=False)"
   ]
  }
 ],
 "metadata": {
  "kernelspec": {
   "display_name": "Python 3",
   "language": "python",
   "name": "python3"
  },
  "language_info": {
   "codemirror_mode": {
    "name": "ipython",
    "version": 3
   },
   "file_extension": ".py",
   "mimetype": "text/x-python",
   "name": "python",
   "nbconvert_exporter": "python",
   "pygments_lexer": "ipython3",
   "version": "3.8.5"
  }
 },
 "nbformat": 4,
 "nbformat_minor": 4
}
