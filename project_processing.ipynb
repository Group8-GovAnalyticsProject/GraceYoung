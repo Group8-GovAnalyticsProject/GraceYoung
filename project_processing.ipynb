{
 "cells": [
  {
   "cell_type": "code",
   "execution_count": 69,
   "metadata": {},
   "outputs": [],
   "source": [
    "import pandas as pd\n",
    "covid_loc='https://github.com/g-raceyoung/PUBPOL542/blob/main/biweekly-counts-rates-by-geography-dec-29.xlsx?raw=true'\n",
    "covid_cases=pd.read_excel(covid_loc, sheet_name='Census')\n",
    "\n",
    "# at census tract level (11 digits)"
   ]
  },
  {
   "cell_type": "code",
   "execution_count": 70,
   "metadata": {},
   "outputs": [],
   "source": [
    "park_visit_loc = 'https://github.com/g-raceyoung/PUBPOL542/raw/main/2020-4-cleaned.csv' #cleaned data\n",
    "park_visit = pd.read_csv(park_visit_loc)\n",
    "\n",
    "# at census block group level (12 digits, need to drop last digit)\n",
    "drop_last = lambda s : int(str(s)[:-1])\n",
    "\n",
    "park_visit['cbgs_id'] = park_visit['cbgs_id'].apply(drop_last) #removing the block group level designator to get to tract level\n",
    "\n",
    "park_visit['week'] = pd.to_datetime(park_visit['week']) #converting 'week' from string to datetime64[ns]"
   ]
  },
  {
   "cell_type": "code",
   "execution_count": 116,
   "metadata": {},
   "outputs": [
    {
     "data": {
      "text/html": [
       "<div>\n",
       "<style scoped>\n",
       "    .dataframe tbody tr th:only-of-type {\n",
       "        vertical-align: middle;\n",
       "    }\n",
       "\n",
       "    .dataframe tbody tr th {\n",
       "        vertical-align: top;\n",
       "    }\n",
       "\n",
       "    .dataframe thead th {\n",
       "        text-align: right;\n",
       "    }\n",
       "</style>\n",
       "<table border=\"1\" class=\"dataframe\">\n",
       "  <thead>\n",
       "    <tr style=\"text-align: right;\">\n",
       "      <th></th>\n",
       "      <th>cbgs_id</th>\n",
       "      <th>week_collected</th>\n",
       "      <th>visitor_count</th>\n",
       "    </tr>\n",
       "  </thead>\n",
       "  <tbody>\n",
       "    <tr>\n",
       "      <th>0</th>\n",
       "      <td>53001950100</td>\n",
       "      <td>2020-04-27</td>\n",
       "      <td>8</td>\n",
       "    </tr>\n",
       "    <tr>\n",
       "      <th>1</th>\n",
       "      <td>53001950200</td>\n",
       "      <td>2020-04-27</td>\n",
       "      <td>4</td>\n",
       "    </tr>\n",
       "    <tr>\n",
       "      <th>2</th>\n",
       "      <td>53001950300</td>\n",
       "      <td>2020-04-27</td>\n",
       "      <td>28</td>\n",
       "    </tr>\n",
       "    <tr>\n",
       "      <th>3</th>\n",
       "      <td>53001950400</td>\n",
       "      <td>2020-04-27</td>\n",
       "      <td>16</td>\n",
       "    </tr>\n",
       "    <tr>\n",
       "      <th>4</th>\n",
       "      <td>53001950500</td>\n",
       "      <td>2020-04-27</td>\n",
       "      <td>42</td>\n",
       "    </tr>\n",
       "  </tbody>\n",
       "</table>\n",
       "</div>"
      ],
      "text/plain": [
       "       cbgs_id week_collected  visitor_count\n",
       "0  53001950100     2020-04-27              8\n",
       "1  53001950200     2020-04-27              4\n",
       "2  53001950300     2020-04-27             28\n",
       "3  53001950400     2020-04-27             16\n",
       "4  53001950500     2020-04-27             42"
      ]
     },
     "execution_count": 116,
     "metadata": {},
     "output_type": "execute_result"
    }
   ],
   "source": [
    "park_visit = park_visit.groupby(['cbgs_id', 'week'], as_index=False).sum('count') #grouping by tract_id and summing over count\n",
    "park_visit.columns = ['cbgs_id','week_collected','visitor_count'] #renaming columns\n",
    "park_visit.head()"
   ]
  },
  {
   "cell_type": "code",
   "execution_count": 132,
   "metadata": {},
   "outputs": [],
   "source": [
    "# filter for weeks prior to park counts collected\n",
    "covid_cases_pre = covid_cases[covid_cases['Week_Start'] <= park_visit['week_collected'][0]]\n",
    "\n",
    "# summing up the number of covid cases per tract prior to the date where park counts were collected\n",
    "covid_cases_pre = covid_cases_pre.groupby(['Census'], as_index=False)['Positives'].sum()\n",
    "covid_cases_pre.columns = ['census','precount_positive']\n",
    "\n",
    "# trying also summing all cases to date because having a lot of records with 0 is not good for later regression analysis\n",
    "covid_cases_all = covid_cases.groupby(['Census'], as_index=False)['Positives'].sum()\n",
    "covid_cases_all.columns = ['census','all_positive'] "
   ]
  },
  {
   "cell_type": "code",
   "execution_count": 129,
   "metadata": {
    "scrolled": true
   },
   "outputs": [
    {
     "name": "stdout",
     "output_type": "stream",
     "text": [
      "<class 'pandas.core.frame.DataFrame'>\n",
      "Int64Index: 905 entries, 0 to 904\n",
      "Data columns (total 2 columns):\n",
      " #   Column      Non-Null Count  Dtype  \n",
      "---  ------      --------------  -----  \n",
      " 0   geo_id      905 non-null    int64  \n",
      " 1   median_age  905 non-null    float64\n",
      "dtypes: float64(1), int64(1)\n",
      "memory usage: 21.2 KB\n"
     ]
    }
   ],
   "source": [
    "age_loc = 'https://raw.githubusercontent.com/g-raceyoung/PUBPOL542/main/Median_age_by_sex.csv'\n",
    "age = pd.read_csv(age_loc)\n",
    "age = age.drop(0) #removing first row\n",
    "age.reset_index(drop=True, inplace=True) #resetting index to start at 0 again\n",
    "age = age.iloc[:,[0,2]] #selecting relevant columns\n",
    "age.columns = ['geo_id', 'median_age'] #renaming columns\n",
    "\n",
    "drop_front = lambda s : int(s[9:])\n",
    "age['geo_id'] = age['geo_id'].apply(drop_front) #dropping irrelevant part of geo_id\n",
    "age['median_age'] = pd.to_numeric(final['median_age'], errors='coerce') #converting age from string to float, generates NaN where the string is non-numeric (i.e. \"-\")\n",
    "age = age.dropna() #dropping these newly created NaNs\n",
    "age.info()"
   ]
  },
  {
   "cell_type": "code",
   "execution_count": 131,
   "metadata": {},
   "outputs": [
    {
     "data": {
      "text/html": [
       "<div>\n",
       "<style scoped>\n",
       "    .dataframe tbody tr th:only-of-type {\n",
       "        vertical-align: middle;\n",
       "    }\n",
       "\n",
       "    .dataframe tbody tr th {\n",
       "        vertical-align: top;\n",
       "    }\n",
       "\n",
       "    .dataframe thead th {\n",
       "        text-align: right;\n",
       "    }\n",
       "</style>\n",
       "<table border=\"1\" class=\"dataframe\">\n",
       "  <thead>\n",
       "    <tr style=\"text-align: right;\">\n",
       "      <th></th>\n",
       "      <th>cbgs_id</th>\n",
       "      <th>visitor_count</th>\n",
       "      <th>median_age</th>\n",
       "      <th>precount_positive</th>\n",
       "      <th>all_positive</th>\n",
       "    </tr>\n",
       "  </thead>\n",
       "  <tbody>\n",
       "    <tr>\n",
       "      <th>0</th>\n",
       "      <td>53001950400</td>\n",
       "      <td>16</td>\n",
       "      <td>32.9</td>\n",
       "      <td>0</td>\n",
       "      <td>0</td>\n",
       "    </tr>\n",
       "    <tr>\n",
       "      <th>1</th>\n",
       "      <td>53005010100</td>\n",
       "      <td>46</td>\n",
       "      <td>40.7</td>\n",
       "      <td>0</td>\n",
       "      <td>0</td>\n",
       "    </tr>\n",
       "    <tr>\n",
       "      <th>2</th>\n",
       "      <td>53005010201</td>\n",
       "      <td>71</td>\n",
       "      <td>40.3</td>\n",
       "      <td>0</td>\n",
       "      <td>0</td>\n",
       "    </tr>\n",
       "    <tr>\n",
       "      <th>3</th>\n",
       "      <td>53005010202</td>\n",
       "      <td>53</td>\n",
       "      <td>49.7</td>\n",
       "      <td>0</td>\n",
       "      <td>0</td>\n",
       "    </tr>\n",
       "    <tr>\n",
       "      <th>4</th>\n",
       "      <td>53005010300</td>\n",
       "      <td>60</td>\n",
       "      <td>40.4</td>\n",
       "      <td>0</td>\n",
       "      <td>0</td>\n",
       "    </tr>\n",
       "  </tbody>\n",
       "</table>\n",
       "</div>"
      ],
      "text/plain": [
       "       cbgs_id  visitor_count  median_age  precount_positive  all_positive\n",
       "0  53001950400             16        32.9                  0             0\n",
       "1  53005010100             46        40.7                  0             0\n",
       "2  53005010201             71        40.3                  0             0\n",
       "3  53005010202             53        49.7                  0             0\n",
       "4  53005010300             60        40.4                  0             0"
      ]
     },
     "execution_count": 131,
     "metadata": {},
     "output_type": "execute_result"
    }
   ],
   "source": [
    "# MERGING\n",
    "\n",
    "# parks & age\n",
    "join_1 = park_visit.merge(age, left_on='cbgs_id', right_on='geo_id', how='inner')\n",
    "join_1.head()\n",
    "\n",
    "# adding covid_cases_pre\n",
    "join_2 = join_1.merge(covid_cases_pre, left_on='geo_id', right_on='census', how='inner')\n",
    "join_2.head()\n",
    "\n",
    "# adding covid_cases_all\n",
    "final = join_2.merge(covid_cases_all, left_on='geo_id', right_on='census', how='inner')\n",
    "final.head()\n",
    "\n",
    "final.drop(['geo_id','census_x','census_y','week_collected'], axis=1, inplace=True)\n",
    "\n",
    "final.head()"
   ]
  }
 ],
 "metadata": {
  "kernelspec": {
   "display_name": "Python 3",
   "language": "python",
   "name": "python3"
  },
  "language_info": {
   "codemirror_mode": {
    "name": "ipython",
    "version": 3
   },
   "file_extension": ".py",
   "mimetype": "text/x-python",
   "name": "python",
   "nbconvert_exporter": "python",
   "pygments_lexer": "ipython3",
   "version": "3.8.5"
  }
 },
 "nbformat": 4,
 "nbformat_minor": 4
}
